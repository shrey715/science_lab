{
 "cells": [
  {
   "cell_type": "markdown",
   "metadata": {},
   "source": [
    "# C5: Kinetic Study of the Decomposition of H2O2 in the Presence of FeCl3 solution and the Effect of the Catalyst on the Rate Constant."
   ]
  },
  {
   "cell_type": "code",
   "execution_count": null,
   "metadata": {},
   "outputs": [],
   "source": [
    "import numpy as np\n",
    "import matplotlib.pyplot as plt"
   ]
  },
  {
   "cell_type": "code",
   "execution_count": null,
   "metadata": {},
   "outputs": [],
   "source": [
    "# for 1% FeCl3\n",
    "\n",
    "volume_1 = np.array([\n",
    "\n",
    "])\n",
    "\n",
    "# this time is the delta time, not experiment time\n",
    "time_1 = np.array([\n",
    "\n",
    "])\n",
    "\n",
    "\n",
    "log_volume_1 = np.log10(volume_1[0]) - np.log10(volume_1)\n",
    "\n",
    "# for 0.5% FeCl3\n",
    "\n",
    "volume_05 = np.array([\n",
    "\n",
    "])\n",
    "\n",
    "# this time is the delta time, not experiment time\n",
    "time_05 = np.array([\n",
    "\n",
    "])\n",
    "\n",
    "log_volume_05 = np.log10(volume_05[0]) - np.log10(volume_05)"
   ]
  },
  {
   "cell_type": "code",
   "execution_count": null,
   "metadata": {},
   "outputs": [],
   "source": [
    "def line(x, m, c):\n",
    "    return m * x + c\n",
    "\n",
    "def invline(y, m, c):\n",
    "    return (y - c) / m\n",
    "\n",
    "def least_squares(x, y):\n",
    "    m = (len(x) * np.sum(x * y) - np.sum(x) * np.sum(y)) / (len(x) * np.sum(x**2) - np.sum(x)**2)\n",
    "    c = (np.sum(y) - m * np.sum(x)) / len(x)\n",
    "    return m, c\n",
    "  \n",
    "m1, c1 = least_squares(time_1, log_volume_1)\n",
    "m2, c2 = least_squares(time_05, log_volume_05)\n",
    "\n",
    "print(f'm1 = {m1} c1 = {c1}')\n",
    "print(f'm2 = {m2} c2 = {c2}')"
   ]
  },
  {
   "cell_type": "code",
   "execution_count": null,
   "metadata": {},
   "outputs": [],
   "source": [
    "plt.figure(figsize=(16, 9))\n",
    "\n",
    "plt.plot(time_1, log_volume_1, 'ro', label='1% FeCl3')\n",
    "plt.plot(time_05, log_volume_05, 'bs', label='0.5% FeCl3')\n",
    "\n",
    "plt.plot(time_1, line(time_1, m1, c1), 'r--', label='1% FeCl3')\n",
    "plt.plot(time_05, line(time_05, m2, c2), 'b--', label='0.5% FeCl3')\n",
    "\n",
    "plt.xlabel('Time $\\\\Delta t$ (s)')\n",
    "plt.ylabel('$\\\\log\\\\left(\\\\frac{V_1}{V_n}\\\\right)$')\n",
    "\n",
    "plt.title('$\\\\log\\\\left(\\\\frac{V_1}{V_n}\\\\right)$ vs. Time $\\\\Delta t$')\n",
    "\n",
    "plt.xticks(np.arange(0, 1300, 100))\n",
    "max_y = max(max(log_volume_1), max(log_volume_05))\n",
    "plt.yticks(np.arange(0, max_y+0.2, 0.1))\n",
    "\n",
    "plt.legend()\n",
    "plt.grid()\n",
    "plt.show()"
   ]
  },
  {
   "cell_type": "code",
   "execution_count": null,
   "metadata": {},
   "outputs": [],
   "source": [
    "k1 = m1 * 2.303 \n",
    "k2 = m2 * 2.303\n",
    "\n",
    "print(f'k1 = {k1}')\n",
    "print(f'k2 = {k2}')\n",
    "print(f'k1/k2 = {k1/k2}')\n",
    "print(f'k2/k1 = {k2/k1}')"
   ]
  }
 ],
 "metadata": {
  "kernelspec": {
   "display_name": "Python 3",
   "language": "python",
   "name": "python3"
  },
  "language_info": {
   "codemirror_mode": {
    "name": "ipython",
    "version": 3
   },
   "file_extension": ".py",
   "mimetype": "text/x-python",
   "name": "python",
   "nbconvert_exporter": "python",
   "pygments_lexer": "ipython3",
   "version": "3.13.0"
  }
 },
 "nbformat": 4,
 "nbformat_minor": 2
}
