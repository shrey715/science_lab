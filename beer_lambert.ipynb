{
 "cells": [
  {
   "cell_type": "markdown",
   "metadata": {},
   "source": [
    "# C1 - Verification of the Beer-Lambert’s Law with a given solution and Determination of the unknown Concentration of the solution."
   ]
  },
  {
   "cell_type": "code",
   "execution_count": null,
   "metadata": {},
   "outputs": [],
   "source": [
    "import numpy as np\n",
    "import matplotlib.pyplot as plt"
   ]
  },
  {
   "cell_type": "code",
   "execution_count": null,
   "metadata": {},
   "outputs": [],
   "source": [
    "# FILL IN THE TRANSMITTANCE VALUES HERE, it will calculate %Transmitance using %T=antilog(2-A)\n",
    "\n",
    "wavelengths = np.array([\n",
    "  420, 440, 490, 520, 540, 570, 600, 720\n",
    "])\n",
    "\n",
    "# fill the transmittance values corresponding to the abve wavelengths\n",
    "transmittance_percent = np.array([\n",
    "  6.3,4.2,1.6,0.6,1.6,3.1,7.6,21.1\n",
    "])\n",
    "\n",
    "absorbance = 2 - np.log10(transmittance_percent) # calculate absorbance\n",
    "absorbance = np.round(absorbance, 2) # round off to 2 decimal places, change if u want more accurate values\n",
    "\n",
    "print(absorbance) "
   ]
  },
  {
   "cell_type": "code",
   "execution_count": null,
   "metadata": {},
   "outputs": [],
   "source": [
    "# picking the maximum absorbance once\n",
    "max_absorbance = np.max(absorbance)\n",
    "print(\"Max Absorbance: \", max_absorbance)\n",
    "\n",
    "max_absorbance_wavelength = wavelengths[np.argmax(absorbance)]\n",
    "print(\"Wavelength of max absorbance: \", max_absorbance_wavelength)"
   ]
  },
  {
   "cell_type": "code",
   "execution_count": null,
   "metadata": {},
   "outputs": [],
   "source": [
    "plt.figure(figsize=(16,9))\n",
    "\n",
    "plt.plot(wavelengths, absorbance, 'ro-')\n",
    "plt.plot(max_absorbance_wavelength, max_absorbance, 'bo')\n",
    "plt.plot([min(wavelengths), max_absorbance_wavelength], [max_absorbance, max_absorbance], 'g--')\n",
    "plt.plot([max_absorbance_wavelength, max_absorbance_wavelength], [min(absorbance), max_absorbance], 'g--')\n",
    "\n",
    "plt.xticks(np.arange(min(wavelengths), max(wavelengths)+1, 20))\n",
    "plt.xlabel('Wavelength (nm)')\n",
    "plt.xlim([min(wavelengths), max(wavelengths)+1])\n",
    "\n",
    "plt.ylabel('Absorbance')\n",
    "plt.ylim([min(absorbance), max(absorbance)+0.1])\n",
    "\n",
    "for x,y in zip(wavelengths, absorbance):\n",
    "    label = f\"({x},{y})\"\n",
    "    plt.annotate(label, (x,y), textcoords=\"offset points\", xytext=(0,10), ha='center')\n",
    "\n",
    "plt.title('Absorbance vs Wavelength')\n",
    "\n",
    "plt.grid()\n",
    "plt.show()"
   ]
  },
  {
   "cell_type": "code",
   "execution_count": null,
   "metadata": {},
   "outputs": [],
   "source": [
    "concentrations = np.array([100, 80, 60, 40, 20, 0]) # in percentage\n",
    "\n",
    "transmittance_percent_conc = np.array([\n",
    "  2.6, 4.6, 8.7, 20, 41.3, 100\n",
    "])\n",
    "\n",
    "absorbance_conc = 2 - np.log10(transmittance_percent_conc) # calculate absorbance\n",
    "absorbance_conc = np.round(absorbance_conc, 2) # round off to 2 decimal places, change if u want more accurate values\n",
    "\n",
    "print(absorbance_conc)"
   ]
  },
  {
   "cell_type": "code",
   "execution_count": null,
   "metadata": {},
   "outputs": [],
   "source": [
    "def line(x, m, c):\n",
    "    return m * x + c\n",
    "\n",
    "def invline(y, m, c):\n",
    "    return (y - c) / m\n",
    "\n",
    "def least_squares(x, y):\n",
    "    m = (len(x) * np.sum(x * y) - np.sum(x) * np.sum(y)) / (len(x) * np.sum(x**2) - np.sum(x)**2)\n",
    "    c = (np.sum(y) - m * np.sum(x)) / len(x)\n",
    "    return m, c\n",
    "  \n",
    "m, c = least_squares(concentrations, absorbance_conc)\n",
    "print(f\"m: {m}, c: {c}\")"
   ]
  },
  {
   "cell_type": "code",
   "execution_count": null,
   "metadata": {},
   "outputs": [],
   "source": [
    "unknown_conc_transmittance = 30.9 # enter TRANSMITTANCE value of unknown concentration\n",
    "unknown_conc_absorbance = 2 - np.log10(unknown_conc_transmittance) # calculate absorbance\n",
    "\n",
    "unknown_conc = invline(unknown_conc_absorbance, m, c) # calculate unknown concentration\n",
    "print(f\"Unknown Concentration: {unknown_conc}\")"
   ]
  },
  {
   "cell_type": "code",
   "execution_count": null,
   "metadata": {},
   "outputs": [],
   "source": [
    "# graph plotting for absorbance vs concentration\n",
    "\n",
    "plt.figure(figsize=(16,9))\n",
    "\n",
    "plt.plot(concentrations, absorbance_conc, 'ro', label='Known Concentrations')\n",
    "plt.plot(unknown_conc, unknown_conc_absorbance, 'bo', label='Unknown Concentration')\n",
    "plt.plot([unknown_conc, unknown_conc], [0, unknown_conc_absorbance], 'b--')\n",
    "plt.plot([0, unknown_conc], [unknown_conc_absorbance, unknown_conc_absorbance], 'b--')\n",
    "plt.plot(concentrations, line(concentrations, m, c), 'g--')\n",
    "\n",
    "plt.xticks(np.arange(min(concentrations), max(concentrations)+1, 10))\n",
    "plt.xlabel('Concentration (%)')\n",
    "plt.xlim([min(concentrations), max(concentrations)+1])\n",
    "\n",
    "plt.ylabel('Absorbance')\n",
    "plt.ylim([min(absorbance_conc), max(absorbance_conc)+0.1])\n",
    "\n",
    "for x,y in zip(concentrations, absorbance_conc):\n",
    "  label = f\"({x},{y})\"\n",
    "  plt.annotate(label, (x,y), textcoords=\"offset points\", xytext=(0,10), ha='center')\n",
    "\n",
    "plt.title('Absorbance vs Concentration')\n",
    "plt.legend()\n",
    "plt.grid()\n",
    "plt.show()"
   ]
  }
 ],
 "metadata": {
  "kernelspec": {
   "display_name": "Python 3",
   "language": "python",
   "name": "python3"
  },
  "language_info": {
   "codemirror_mode": {
    "name": "ipython",
    "version": 3
   },
   "file_extension": ".py",
   "mimetype": "text/x-python",
   "name": "python",
   "nbconvert_exporter": "python",
   "pygments_lexer": "ipython3",
   "version": "3.13.0"
  }
 },
 "nbformat": 4,
 "nbformat_minor": 2
}
